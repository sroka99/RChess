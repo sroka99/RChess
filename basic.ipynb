{
 "cells": [
  {
   "cell_type": "code",
   "execution_count": 3,
   "metadata": {},
   "outputs": [],
   "source": [
    "import numpy as np"
   ]
  },
  {
   "cell_type": "code",
   "execution_count": null,
   "metadata": {},
   "outputs": [
    {
     "data": {
      "text/plain": [
       "'e2'"
      ]
     },
     "execution_count": 4,
     "metadata": {},
     "output_type": "execute_result"
    }
   ],
   "source": [
    "def translation(position:str):\n",
    "    row_id = 8-eval(position[1])\n",
    "    col_id = 0\n",
    "    if len(position) != 2:\n",
    "        raise Exception(\"Incorrect format\")\n",
    "    if row_id > 8:\n",
    "        raise Exception(\"incorrect column\")\n",
    "    for i in \"abcdefgh\"+\"x\":\n",
    "        if position[0] == i:\n",
    "            break\n",
    "        col_id = col_id+1\n",
    "    if col_id == 9:\n",
    "        raise Exception(\"incorrect row\")\n",
    "    return (row_id,col_id)\n",
    "\n",
    "def reverse_translation(coordinate:tuple) -> str:\n",
    "    if not (0 <= coordinate[0] <= 7 and 0 <= coordinate[1] <= 7):\n",
    "        raise Exception(\"Invalid coordinates\")\n",
    "    \n",
    "    column_letters = \"abcdefgh\"  \n",
    "    row_number = str(8 - coordinate[0])  \n",
    "    col_letter = column_letters[coordinate[1]]  \n",
    "    return col_letter + row_number\n"
   ]
  },
  {
   "cell_type": "code",
   "execution_count": 33,
   "metadata": {},
   "outputs": [],
   "source": [
    "def translation(position: str):\n",
    "    columns = \"abcdefgh\"\n",
    "    return (8 - int(position[1]), columns.index(position[0]))\n",
    "\n",
    "class Board():\n",
    "    def __init__(self):\n",
    "        self.board = np.empty((8, 8), dtype=object) \n",
    "        self.columns = \"abcdefgh\"\n",
    "        self.turn = 1 # white 1, black -1\n",
    "    \n",
    "    def set(self):\n",
    "        for col, col_name in enumerate(self.columns):\n",
    "            self.board[1][col] = Pawn(-1, f\"{col_name}7\")\n",
    "            self.board[6][col] = Pawn(1, f\"{col_name}2\")\n",
    "        \n",
    "        piece_order = [Rook, Knight, Bishop, Queen, King, Bishop, Knight, Rook]\n",
    "        for col, piece in enumerate(piece_order):\n",
    "            self.board[0][col] = piece(-1, f\"{self.columns[col]}8\")\n",
    "            self.board[7][col] = piece(1, f\"{self.columns[col]}1\")\n",
    "        \n",
    "    def move(self, old_pos: str, new_pos: str):\n",
    "        tup_old_pos = translation(old_pos)\n",
    "        tup_new_pos = translation(new_pos)\n",
    "        if self.board[tup_old_pos[0]][tup_old_pos[1]] is None:\n",
    "            raise Exception(f\"No piece on {old_pos}\")\n",
    "        piece: Piece = self.board[tup_old_pos[0]][tup_old_pos[1]]\n",
    "        if piece.color != self.turn:\n",
    "            raise Exception(\"Incorrect color\")\n",
    "        \n",
    "        captured_piece = self.board[tup_new_pos[0]][tup_new_pos[1]]\n",
    "        if captured_piece is not None and captured_piece.color == piece.color:\n",
    "            raise Exception(\"Cannot capture own piece\")\n",
    "        \n",
    "        if piece.move(new_pos, captured_piece) == 0:\n",
    "            raise Exception(\"Illegal move\")\n",
    "        \n",
    "        self.board[tup_old_pos[0]][tup_old_pos[1]] = None\n",
    "        self.board[tup_new_pos[0]][tup_new_pos[1]] = piece\n",
    "        piece.position = (tup_new_pos[0], tup_new_pos[1])\n",
    "        self.turn *= -1\n",
    "\n",
    "    def display(self):\n",
    "        for row in range(8):\n",
    "            for col in range(8):\n",
    "                piece = self.board[row][col]\n",
    "                if isinstance(piece, Pawn):\n",
    "                    symbol = \"p\" if piece.color == -1 else \"P\"\n",
    "                elif isinstance(piece, Rook):\n",
    "                    symbol = \"r\" if piece.color == -1 else \"R\"\n",
    "                elif isinstance(piece, Knight):\n",
    "                    symbol = \"n\" if piece.color == -1 else \"N\"\n",
    "                elif isinstance(piece, Bishop):\n",
    "                    symbol = \"b\" if piece.color == -1 else \"B\"\n",
    "                elif isinstance(piece, Queen):\n",
    "                    symbol = \"q\" if piece.color == -1 else \"Q\"\n",
    "                elif isinstance(piece, King):\n",
    "                    symbol = \"k\" if piece.color == -1 else \"K\"\n",
    "                else:\n",
    "                    symbol = \".\"\n",
    "                print(symbol, end=\" \")\n",
    "            print()\n",
    "       \n",
    "\n",
    "class Piece():\n",
    "    def __init__(self, color, position):\n",
    "        self.color = color\n",
    "        self.position = translation(position)\n",
    "        self.moved = 0\n",
    "    \n",
    "    def move(self, new_position, captured_piece=None):   \n",
    "        return 0\n",
    "\n",
    "class Pawn(Piece):\n",
    "    def move(self, new_position, captured_piece=None):\n",
    "        row_id, col_id = translation(new_position)\n",
    "        row_diff = self.position[0] - row_id\n",
    "        col_diff = abs(self.position[1] - col_id)\n",
    "        \n",
    "        if col_diff == 0 and captured_piece is None:\n",
    "            if row_diff == self.color or (row_diff == 2 * self.color and self.moved == 0):\n",
    "                self.moved = 1\n",
    "                return 1\n",
    "        elif col_diff == 1 and row_diff == self.color and captured_piece is not None:\n",
    "            return 1\n",
    "        return 0\n",
    "\n",
    "class Rook(Piece):\n",
    "    def move(self, new_position, captured_piece=None):\n",
    "        row_id, col_id = translation(new_position)\n",
    "        if self.position[0] == row_id or self.position[1] == col_id:\n",
    "            return 1\n",
    "        return 0\n",
    "\n",
    "class Knight(Piece):\n",
    "    def move(self, new_position, captured_piece=None):\n",
    "        row_id, col_id = translation(new_position)\n",
    "        row_diff = abs(self.position[0] - row_id)\n",
    "        col_diff = abs(self.position[1] - col_id)\n",
    "        if (row_diff, col_diff) in [(2, 1), (1, 2)]:\n",
    "            return 1\n",
    "        return 0\n",
    "\n",
    "class Bishop(Piece):\n",
    "    def move(self, new_position, captured_piece=None):\n",
    "        row_id, col_id = translation(new_position)\n",
    "        if abs(self.position[0] - row_id) == abs(self.position[1] - col_id):\n",
    "            return 1\n",
    "        return 0\n",
    "\n",
    "class Queen(Piece):\n",
    "    def move(self, new_position, captured_piece=None):\n",
    "        row_id, col_id = translation(new_position)\n",
    "        if self.position[0] == row_id or self.position[1] == col_id or abs(self.position[0] - row_id) == abs(self.position[1] - col_id):\n",
    "            return 1\n",
    "        return 0\n",
    "\n",
    "class King(Piece):\n",
    "    def move(self, new_position, captured_piece=None):\n",
    "        row_id, col_id = translation(new_position)\n",
    "        row_diff = abs(self.position[0] - row_id)\n",
    "        col_diff = abs(self.position[1] - col_id)\n",
    "        if max(row_diff, col_diff) == 1:\n",
    "            return 1\n",
    "        return 0\n"
   ]
  },
  {
   "cell_type": "code",
   "execution_count": 34,
   "metadata": {},
   "outputs": [
    {
     "name": "stdout",
     "output_type": "stream",
     "text": [
      "r n b q k b n r \n",
      "p p p p p p p p \n",
      ". . . . . . . . \n",
      ". . . . . . . . \n",
      ". . . . . . . . \n",
      ". . . . . . . . \n",
      "P P P P P P P P \n",
      "R N B Q K B N R \n"
     ]
    }
   ],
   "source": [
    "a = Board()\n",
    "a.set()\n",
    "a.display()"
   ]
  },
  {
   "cell_type": "code",
   "execution_count": 35,
   "metadata": {},
   "outputs": [
    {
     "name": "stdout",
     "output_type": "stream",
     "text": [
      "r n b q k b n r \n",
      "p p p . p p p p \n",
      ". . . . . . . . \n",
      ". . . p . . . . \n",
      ". . . . P . . . \n",
      ". . . . . . . . \n",
      "P P P P . P P P \n",
      "R N B Q K B N R \n"
     ]
    }
   ],
   "source": [
    "a.move(\"e2\",\"e4\")\n",
    "a.move(\"d7\",\"d5\")\n",
    "a.display()"
   ]
  },
  {
   "cell_type": "code",
   "execution_count": null,
   "metadata": {},
   "outputs": [
    {
     "name": "stdout",
     "output_type": "stream",
     "text": [
      "r n b q k b n r \n",
      "p p p . p p p p \n",
      ". . . . . . . . \n",
      ". . . P . . . . \n",
      ". . . . . . . . \n",
      ". . . . . . . . \n",
      "P P P P . P P P \n",
      "R N B Q K B N R \n"
     ]
    }
   ],
   "source": [
    "a.move(\"e4\",\"d5\")\n",
    "a.display()\n"
   ]
  },
  {
   "cell_type": "code",
   "execution_count": null,
   "metadata": {},
   "outputs": [],
   "source": [
    "a.move(\"e7\",\"e6\")\n",
    "a.move(\"a2\",\"a3\")"
   ]
  },
  {
   "cell_type": "code",
   "execution_count": 38,
   "metadata": {},
   "outputs": [
    {
     "name": "stdout",
     "output_type": "stream",
     "text": [
      "r n b q k b n r \n",
      "p p p . . p p p \n",
      ". . . . p . . . \n",
      ". . . P . . . . \n",
      ". . . . . . . . \n",
      "P . . . . . . . \n",
      ". P P P . P P P \n",
      "R N B Q K B N R \n"
     ]
    }
   ],
   "source": [
    "a.display()"
   ]
  },
  {
   "cell_type": "code",
   "execution_count": 39,
   "metadata": {},
   "outputs": [],
   "source": [
    "a.move(\"e6\",\"d5\")\n"
   ]
  },
  {
   "cell_type": "code",
   "execution_count": 40,
   "metadata": {},
   "outputs": [
    {
     "name": "stdout",
     "output_type": "stream",
     "text": [
      "r n b q k b n r \n",
      "p p p . . p p p \n",
      ". . . . . . . . \n",
      ". . . p . . . . \n",
      ". . . . . . . . \n",
      "P . . . . . . . \n",
      ". P P P . P P P \n",
      "R N B Q K B N R \n"
     ]
    }
   ],
   "source": [
    "a.display()"
   ]
  },
  {
   "cell_type": "code",
   "execution_count": 16,
   "metadata": {},
   "outputs": [
    {
     "name": "stdout",
     "output_type": "stream",
     "text": [
      "r n b q r b n r \n",
      "p p p p . p p p \n",
      ". . . . . . . . \n",
      ". . . . p . . . \n",
      ". . . . P . . . \n",
      ". . . . . N . . \n",
      "P P P P . P P P \n",
      "R N B Q R B . R \n"
     ]
    }
   ],
   "source": [
    "a.display()"
   ]
  },
  {
   "cell_type": "code",
   "execution_count": 2,
   "metadata": {},
   "outputs": [],
   "source": [
    "test = [1,23,3,21,3,312,214,2,312] \n",
    "def max(elements:list)->int:\n",
    "    value = elements[0]\n",
    "    for element in elements:\n",
    "        if value < element:\n",
    "            value = element\n",
    "    return value\n",
    "\n",
    "def sort(elements):\n",
    "    new_list = []\n",
    "    copy = elements.copy()\n",
    "    while True:\n",
    "        try:\n",
    "            max_element = max(copy)\n",
    "            new_list.append(max_element)\n",
    "            copy.remove(max_element)\n",
    "        except:    \n",
    "            return new_list\n"
   ]
  },
  {
   "cell_type": "code",
   "execution_count": 7,
   "metadata": {},
   "outputs": [],
   "source": [
    "grid = [\n",
    "    [0, 1, 0, 0, 0],\n",
    "    [0, 1, 0, 1, 0],\n",
    "    [0, 0, 0, 1, 0],\n",
    "    [1, 1, 1, 1, 0],\n",
    "    [0, 0, 0, 0, 0]\n",
    "    ]"
   ]
  },
  {
   "cell_type": "code",
   "execution_count": 46,
   "metadata": {},
   "outputs": [],
   "source": [
    "def move(grid,point:tuple):\n",
    "    row = point[0]\n",
    "    col = point[1]\n",
    "    row_len = len(grid[0])\n",
    "    col_len = len(grid)\n",
    "    combination = []\n",
    "    if row + 1 < row_len:\n",
    "        combination.append((row + 1,col))\n",
    "    if col + 1 < col_len:\n",
    "        combination.append((row,col+1))\n",
    "    if col > 0:\n",
    "        combination.append((row ,col-1))\n",
    "    if row > 0:   \n",
    "        combination.append((row - 1,col))\n",
    "    return combination\n"
   ]
  },
  {
   "cell_type": "code",
   "execution_count": 47,
   "metadata": {},
   "outputs": [],
   "source": [
    "def walk(grid:list,start_point:tuple = (0,0),final_step = (0,4)):\n",
    "\n",
    "    row_id = start_point[0]\n",
    "    col_id = start_point[1]\n",
    "    steps = [(row_id,col_id)]\n",
    "    while final_step not in steps:\n",
    "        steps = steps + move(grid,steps[-1])[-1]\n",
    "    return steps"
   ]
  },
  {
   "cell_type": "code",
   "execution_count": null,
   "metadata": {},
   "outputs": [],
   "source": []
  },
  {
   "cell_type": "code",
   "execution_count": null,
   "metadata": {},
   "outputs": [],
   "source": []
  },
  {
   "cell_type": "code",
   "execution_count": null,
   "metadata": {},
   "outputs": [],
   "source": []
  },
  {
   "cell_type": "code",
   "execution_count": null,
   "metadata": {},
   "outputs": [],
   "source": []
  }
 ],
 "metadata": {
  "kernelspec": {
   "display_name": "venv",
   "language": "python",
   "name": "python3"
  },
  "language_info": {
   "codemirror_mode": {
    "name": "ipython",
    "version": 3
   },
   "file_extension": ".py",
   "mimetype": "text/x-python",
   "name": "python",
   "nbconvert_exporter": "python",
   "pygments_lexer": "ipython3",
   "version": "3.11.6"
  }
 },
 "nbformat": 4,
 "nbformat_minor": 2
}
