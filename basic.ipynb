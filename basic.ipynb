{
 "cells": [
  {
   "cell_type": "code",
   "execution_count": null,
   "metadata": {},
   "outputs": [],
   "source": [
    "import numpy as np"
   ]
  },
  {
   "cell_type": "code",
   "execution_count": 437,
   "metadata": {},
   "outputs": [
    {
     "data": {
      "text/plain": [
       "'e2'"
      ]
     },
     "execution_count": 437,
     "metadata": {},
     "output_type": "execute_result"
    }
   ],
   "source": [
    "def translation(position:str):\n",
    "    row_id = 8-eval(position[1])\n",
    "    col_id = 0\n",
    "    if len(position) != 2:\n",
    "        raise Exception(\"Incorrect format\")\n",
    "    if row_id > 8:\n",
    "        raise Exception(\"incorrect column\")\n",
    "    for i in \"abcdefgh\"+\"x\":\n",
    "        if position[0] == i:\n",
    "            break\n",
    "        col_id = col_id+1\n",
    "    if col_id == 9:\n",
    "        raise Exception(\"incorrect row\")\n",
    "    return (row_id,col_id)\n",
    "\n",
    "def reverse_translation(coordinate:tuple) -> str:\n",
    "    if not (0 <= coordinate[0] <= 7 and 0 <= coordinate[1] <= 7):\n",
    "        raise Exception(\"Invalid coordinates\")\n",
    "    \n",
    "    column_letters = \"abcdefgh\"  \n",
    "    row_number = str(8 - coordinate[0])  \n",
    "    col_letter = column_letters[coordinate[1]]  \n",
    "    return col_letter + row_number\n",
    "\n",
    "reverse_translation(translation(\"e2\"))"
   ]
  },
  {
   "cell_type": "code",
   "execution_count": 448,
   "metadata": {},
   "outputs": [],
   "source": [
    "class Board():\n",
    "    def __init__(self):\n",
    "        self.board = np.empty((8, 8), dtype=object) \n",
    "        self.columns = \"abcdefgh\"\n",
    "        self.turn = 1 #white 1 black -1\n",
    "    def set(self):\n",
    "        #Pawns_\n",
    "        for col, col_name in enumerate(self.columns):\n",
    "            self.board[1][col] = Pawn(-1, f\"{col_name}7\")\n",
    "            self.board[6][col] = Pawn(1, f\"{col_name}2\")\n",
    "            \n",
    "    def move(self, old_pos:str,new_pos:str):\n",
    "        tup_old_pos = translation(old_pos)\n",
    "        tup_new_pos = translation(new_pos)\n",
    "        if self.board[tup_old_pos[0]][tup_old_pos[1]] == None:\n",
    "            raise Exception(f\"No piece on {old_pos}\")\n",
    "        piece:Piece = self.board[tup_old_pos[0]][tup_old_pos[1]]\n",
    "        if piece.color != self.turn:\n",
    "            raise Exception(f\"Incorrect color\")\n",
    "        if piece.move(new_pos) == 0:\n",
    "            raise Exception(f\"Illegal move\")\n",
    "\n",
    "        self.board[tup_old_pos[0]][tup_old_pos[1]] = None\n",
    "        self.board[tup_new_pos[0]][tup_new_pos[1]] = piece\n",
    "        self.turn = (-1)*self.turn\n",
    "\n",
    "    def display(self):\n",
    "        for row in range(8):\n",
    "            for col in range(8):\n",
    "                piece = self.board[row][col]\n",
    "                if isinstance(piece, Pawn):\n",
    "                    symbol = \"p\" if piece.color == -1 else \"P\"  \n",
    "                else:\n",
    "                    symbol = \".\"\n",
    "                print(symbol, end=\" \")\n",
    "            print()  \n",
    "\n",
    "class Piece():\n",
    "    def __init__(self,color,position):\n",
    "        self.color = color #-1 black // 1 white\n",
    "        self.position = translation(position) #tuple (row, col)\n",
    "        self.moved = 0\n",
    "    def move(self, new_position):   \n",
    "        \"\"\"Will be overwrite\"\"\"\n",
    "        print(\"Ruch figury (niezdefiniowany dla ogólnej klasy)\")\n",
    "        return 0\n",
    "    \n",
    "class Pawn(Piece):\n",
    "    def move(self,new_position):\n",
    "        row_id,col_id = translation(new_position)\n",
    "        if self.position[1] != col_id:\n",
    "            raise Exception(\"incorrect move\")\n",
    "        if self.position[0] - row_id <= 2 - self.moved and self.position[0]>self.color*row_id:\n",
    "            self.position = (row_id,col_id)\n",
    "            self.moved = 1\n",
    "            return 1\n",
    "        return 0"
   ]
  },
  {
   "cell_type": "code",
   "execution_count": 449,
   "metadata": {},
   "outputs": [
    {
     "name": "stdout",
     "output_type": "stream",
     "text": [
      ". . . . . . . . \n",
      "p p p p p p p p \n",
      ". . . . . . . . \n",
      ". . . . . . . . \n",
      ". . . . . . . . \n",
      ". . . . . . . . \n",
      "P P P P P P P P \n",
      ". . . . . . . . \n"
     ]
    }
   ],
   "source": [
    "a = Board()\n",
    "a.set()\n",
    "a.display()"
   ]
  },
  {
   "cell_type": "code",
   "execution_count": 450,
   "metadata": {},
   "outputs": [],
   "source": [
    "a.move(\"e2\",\"e4\")"
   ]
  },
  {
   "cell_type": "code",
   "execution_count": 459,
   "metadata": {},
   "outputs": [
    {
     "data": {
      "text/plain": [
       "(4, 4)"
      ]
     },
     "execution_count": 459,
     "metadata": {},
     "output_type": "execute_result"
    }
   ],
   "source": [
    "a.board[4,4].position"
   ]
  },
  {
   "cell_type": "code",
   "execution_count": 452,
   "metadata": {},
   "outputs": [
    {
     "name": "stdout",
     "output_type": "stream",
     "text": [
      ". . . . . . . . \n",
      "p p p p . p p p \n",
      ". . . . . . . . \n",
      ". . . . p . . . \n",
      ". . . . P . . . \n",
      ". . . . . . . . \n",
      "P P P P . P P P \n",
      ". . . . . . . . \n"
     ]
    }
   ],
   "source": [
    "a.move(\"e7\",\"e5\")\n",
    "a.display()"
   ]
  },
  {
   "cell_type": "code",
   "execution_count": 418,
   "metadata": {},
   "outputs": [
    {
     "data": {
      "text/plain": [
       "1"
      ]
     },
     "execution_count": 418,
     "metadata": {},
     "output_type": "execute_result"
    }
   ],
   "source": [
    "b.move(\"e4\")"
   ]
  },
  {
   "cell_type": "code",
   "execution_count": null,
   "metadata": {},
   "outputs": [],
   "source": []
  }
 ],
 "metadata": {
  "kernelspec": {
   "display_name": "venv",
   "language": "python",
   "name": "python3"
  },
  "language_info": {
   "codemirror_mode": {
    "name": "ipython",
    "version": 3
   },
   "file_extension": ".py",
   "mimetype": "text/x-python",
   "name": "python",
   "nbconvert_exporter": "python",
   "pygments_lexer": "ipython3",
   "version": "3.11.6"
  }
 },
 "nbformat": 4,
 "nbformat_minor": 2
}
